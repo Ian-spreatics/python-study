{
 "cells": [
  {
   "cell_type": "markdown",
   "id": "7ba5984a",
   "metadata": {},
   "source": [
    "### 2. 자료형(Data type)\n",
    "- 자료의 종류와 구조를 정의하는 것"
   ]
  },
  {
   "cell_type": "code",
   "execution_count": 16,
   "id": "e78de7ca",
   "metadata": {},
   "outputs": [
    {
     "name": "stdout",
     "output_type": "stream",
     "text": [
      "코: 코딩을 한다\n",
      "딩: 딩딩딩 머리가 울린다\n",
      "온: 온제 끝나나\n",
      "\n",
      "코: 코딩을 한다\n",
      "딩: 딩딩딩 머리가 울린다\n",
      "온: 온제 끝나나\n",
      "<class 'str'>\n"
     ]
    }
   ],
   "source": [
    "# 1. 문자열(string, str)\n",
    "my_str1 = '' # 빈문자열(O)\n",
    "my_str2 = \" \" # 공백문자열(O)\n",
    "my_str3 = \"안녕하세요\" # \"요하녕안세\" → 문자열은 '순서가 있는 자료형'\n",
    "\n",
    "# 문자열 여러줄로 만들기\n",
    "multi_str = \"\"\"코: 코딩을 한다\n",
    "딩: 딩딩딩 머리가 울린다\n",
    "온: 온제 끝나나\n",
    "\"\"\"\n",
    "print(multi_str)\n",
    "\n",
    "print(\"코: 코딩을 한다\")\n",
    "print(\"딩: 딩딩딩 머리가 울린다\")\n",
    "print(\"온: 온제 끝나나\")\n",
    "\n",
    "print(type(multi_str))"
   ]
  },
  {
   "cell_type": "code",
   "execution_count": 10,
   "id": "2580e96a",
   "metadata": {},
   "outputs": [
    {
     "name": "stdout",
     "output_type": "stream",
     "text": [
      "'지식'은 우정을 대신하지 않아\n",
      "\"지식\"은 우정을 대신하지 않아\n",
      "코: '코딩'을 한다\n",
      "딩: '딩딩딩' 머리가 울린다\n",
      "온: '온제' 끝나나\n",
      "\n"
     ]
    }
   ],
   "source": [
    "# 따옴표 속에 따옴표 쓰기\n",
    "print(\"'지식'은 우정을 대신하지 않아\")\n",
    "print('\"지식\"은 우정을 대신하지 않아')\n",
    "\n",
    "multi_str = \"\"\"코: '코딩'을 한다\n",
    "딩: '딩딩딩' 머리가 울린다\n",
    "온: '온제' 끝나나\n",
    "\"\"\"\n",
    "print(multi_str)"
   ]
  },
  {
   "cell_type": "code",
   "execution_count": 11,
   "id": "ea2cb334",
   "metadata": {},
   "outputs": [
    {
     "name": "stdout",
     "output_type": "stream",
     "text": [
      "<class 'int'>\n"
     ]
    }
   ],
   "source": [
    "# 2. 정수형(integer, int)\n",
    "# 크기 제한이 없음\n",
    "my_int1 = 100\n",
    "my_int2 = 2103801283091823908120938109283012839018293182038\n",
    "print(type(my_int1))"
   ]
  },
  {
   "cell_type": "code",
   "execution_count": 12,
   "id": "8547d6ff",
   "metadata": {},
   "outputs": [
    {
     "name": "stdout",
     "output_type": "stream",
     "text": [
      "<class 'float'>\n"
     ]
    }
   ],
   "source": [
    "# 3. 실수형(float)\n",
    "# 부동소수점 방식\n",
    "my_float1 = 100.0\n",
    "my_float2 = 3.14\n",
    "print(type(my_float1))"
   ]
  },
  {
   "cell_type": "code",
   "execution_count": 14,
   "id": "e4cc8b66",
   "metadata": {},
   "outputs": [
    {
     "name": "stdout",
     "output_type": "stream",
     "text": [
      "True\n",
      "False\n",
      "<class 'bool'>\n",
      "<class 'bool'>\n"
     ]
    }
   ],
   "source": [
    "# 4. 논리형(boolean, bool)\n",
    "# 참(1)과 거짓(0)을 표현하는 자료형\n",
    "print(True)\n",
    "print(False)\n",
    "print(type(True))\n",
    "print(type(False))"
   ]
  }
 ],
 "metadata": {
  "kernelspec": {
   "display_name": "python-study",
   "language": "python",
   "name": "python3"
  },
  "language_info": {
   "codemirror_mode": {
    "name": "ipython",
    "version": 3
   },
   "file_extension": ".py",
   "mimetype": "text/x-python",
   "name": "python",
   "nbconvert_exporter": "python",
   "pygments_lexer": "ipython3",
   "version": "3.13.5"
  }
 },
 "nbformat": 4,
 "nbformat_minor": 5
}
